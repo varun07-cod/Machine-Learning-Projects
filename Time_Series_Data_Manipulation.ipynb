{
  "nbformat": 4,
  "nbformat_minor": 0,
  "metadata": {
    "colab": {
      "provenance": []
    },
    "kernelspec": {
      "name": "python3",
      "display_name": "Python 3"
    },
    "language_info": {
      "name": "python"
    }
  },
  "cells": [
    {
      "cell_type": "markdown",
      "source": [
        "**Time series data is a sequence of data points collected or recorded at regular time intervals. Some common examples of time series include daily stock prices, monthly weather data, and yearly sales figures.**"
      ],
      "metadata": {
        "id": "f0dkaw9l07sb"
      }
    },
    {
      "cell_type": "code",
      "execution_count": 1,
      "metadata": {
        "id": "CxnTGR4QqBNT"
      },
      "outputs": [],
      "source": [
        "import pandas as pd"
      ]
    },
    {
      "cell_type": "code",
      "source": [
        "time_series_data = pd.read_csv('/content/INR-USD.csv')"
      ],
      "metadata": {
        "id": "9lneIxu5rxif"
      },
      "execution_count": 2,
      "outputs": []
    },
    {
      "cell_type": "code",
      "source": [
        "print(time_series_data)"
      ],
      "metadata": {
        "colab": {
          "base_uri": "https://localhost:8080/"
        },
        "id": "5awo8BwXr4U0",
        "outputId": "f86a3533-b905-4b91-ef7e-bd60f0695874"
      },
      "execution_count": 3,
      "outputs": [
        {
          "output_type": "stream",
          "name": "stdout",
          "text": [
            "            Date       Open       High        Low      Close  Adj Close  \\\n",
            "0     2003-12-01  45.709000  45.728001  45.449001  45.480000  45.480000   \n",
            "1     2003-12-08  45.474998  45.507999  45.352001  45.451000  45.451000   \n",
            "2     2003-12-15  45.450001  45.500000  45.332001  45.455002  45.455002   \n",
            "3     2003-12-22  45.417000  45.549000  45.296001  45.507999  45.507999   \n",
            "4     2003-12-29  45.439999  45.645000  45.421001  45.560001  45.560001   \n",
            "...          ...        ...        ...        ...        ...        ...   \n",
            "1011  2023-04-17  81.844803  82.375504  81.844803  82.140900  82.140900   \n",
            "1012  2023-04-24  82.054802  82.154900  81.603996  81.745399  81.745399   \n",
            "1013  2023-05-01  81.744797  81.950996  81.616997  81.716103  81.716103   \n",
            "1014  2023-05-08  81.729797  82.148499  81.673401  81.787102  81.787102   \n",
            "1015  2023-05-10  82.037003  82.087502  81.884003  81.930000  81.930000   \n",
            "\n",
            "      Volume  \n",
            "0        0.0  \n",
            "1        0.0  \n",
            "2        0.0  \n",
            "3        0.0  \n",
            "4        0.0  \n",
            "...      ...  \n",
            "1011     0.0  \n",
            "1012     0.0  \n",
            "1013     0.0  \n",
            "1014     0.0  \n",
            "1015     0.0  \n",
            "\n",
            "[1016 rows x 7 columns]\n"
          ]
        }
      ]
    },
    {
      "cell_type": "code",
      "source": [
        "time_series_data['Date'] = pd.to_datetime(time_series_data['Date'])\n",
        "time_series_data.set_index('Date', inplace = True)"
      ],
      "metadata": {
        "id": "xxox5QP9r6Zu"
      },
      "execution_count": 7,
      "outputs": []
    },
    {
      "cell_type": "code",
      "source": [
        "print(time_series_data.head())"
      ],
      "metadata": {
        "colab": {
          "base_uri": "https://localhost:8080/"
        },
        "id": "HcJ0sQJTtMT0",
        "outputId": "0c259c9f-8d40-4e02-dd5c-95e3c7a152f8"
      },
      "execution_count": 8,
      "outputs": [
        {
          "output_type": "stream",
          "name": "stdout",
          "text": [
            "                 Open       High        Low      Close  Adj Close  Volume\n",
            "Date                                                                     \n",
            "2003-12-01  45.709000  45.728001  45.449001  45.480000  45.480000     0.0\n",
            "2003-12-08  45.474998  45.507999  45.352001  45.451000  45.451000     0.0\n",
            "2003-12-15  45.450001  45.500000  45.332001  45.455002  45.455002     0.0\n",
            "2003-12-22  45.417000  45.549000  45.296001  45.507999  45.507999     0.0\n",
            "2003-12-29  45.439999  45.645000  45.421001  45.560001  45.560001     0.0\n"
          ]
        }
      ]
    },
    {
      "cell_type": "code",
      "source": [
        "missing_values = time_series_data.isnull().sum()\n",
        "print(missing_values)"
      ],
      "metadata": {
        "colab": {
          "base_uri": "https://localhost:8080/"
        },
        "id": "MQ8Ju6mEtZ-b",
        "outputId": "8995486a-87fa-461f-d535-f0f66c2f50f5"
      },
      "execution_count": 9,
      "outputs": [
        {
          "output_type": "stream",
          "name": "stdout",
          "text": [
            "Open         3\n",
            "High         3\n",
            "Low          3\n",
            "Close        3\n",
            "Adj Close    3\n",
            "Volume       3\n",
            "dtype: int64\n"
          ]
        }
      ]
    },
    {
      "cell_type": "code",
      "source": [
        "basic_statistics = time_series_data.describe()\n",
        "print(basic_statistics)"
      ],
      "metadata": {
        "colab": {
          "base_uri": "https://localhost:8080/"
        },
        "id": "VAxiRsiBtnVa",
        "outputId": "a43f310f-13f4-4613-8ad2-3ec46719883f"
      },
      "execution_count": 10,
      "outputs": [
        {
          "output_type": "stream",
          "name": "stdout",
          "text": [
            "              Open         High          Low        Close    Adj Close  Volume\n",
            "count  1013.000000  1013.000000  1013.000000  1013.000000  1013.000000  1013.0\n",
            "mean     58.035208    58.506681    57.654706    58.056509    58.056509     0.0\n",
            "std      12.614635    12.716632    12.565279    12.657407    12.657407     0.0\n",
            "min      38.995998    39.334999    38.979000    39.044998    39.044998     0.0\n",
            "25%      45.508999    45.775002    45.231998    45.498001    45.498001     0.0\n",
            "50%      59.702999    60.342999    59.209999    59.840000    59.840000     0.0\n",
            "75%      68.508499    69.099998    68.250000    68.538002    68.538002     0.0\n",
            "max      82.917999    83.386002    82.563004    82.932999    82.932999     0.0\n"
          ]
        }
      ]
    },
    {
      "cell_type": "code",
      "source": [
        "time_series_data_filled = time_series_data.fillna(time_series_data.mean())\n",
        "\n",
        "missing_values_after = time_series_data_filled.isnull().sum()\n",
        "print(missing_values_after)"
      ],
      "metadata": {
        "colab": {
          "base_uri": "https://localhost:8080/"
        },
        "id": "Jw6D6SFptwdY",
        "outputId": "e68b02d7-cefb-4460-f63c-dd8c9caa4986"
      },
      "execution_count": 11,
      "outputs": [
        {
          "output_type": "stream",
          "name": "stdout",
          "text": [
            "Open         0\n",
            "High         0\n",
            "Low          0\n",
            "Close        0\n",
            "Adj Close    0\n",
            "Volume       0\n",
            "dtype: int64\n"
          ]
        }
      ]
    },
    {
      "cell_type": "code",
      "source": [
        "monthly_resampled_data = time_series_data_filled.resample('M').mean()\n",
        "print(monthly_resampled_data.head())"
      ],
      "metadata": {
        "colab": {
          "base_uri": "https://localhost:8080/"
        },
        "id": "37W9rUTjvN3K",
        "outputId": "4ab8f312-09d7-45bf-eeca-0d1fb4c514ed"
      },
      "execution_count": 12,
      "outputs": [
        {
          "output_type": "stream",
          "name": "stdout",
          "text": [
            "                 Open       High        Low     Close  Adj Close  Volume\n",
            "Date                                                                    \n",
            "2003-12-31  45.498200  45.586000  45.370001  45.49080   45.49080     0.0\n",
            "2004-01-31  45.365999  45.433750  45.172999  45.23675   45.23675     0.0\n",
            "2004-02-29  45.167251  45.285999  45.106251  45.27450   45.27450     0.0\n",
            "2004-03-31  45.026801  45.073800  44.558600  44.75880   44.75880     0.0\n",
            "2004-04-30  43.767750  44.049250  43.630000  43.90800   43.90800     0.0\n"
          ]
        }
      ]
    },
    {
      "cell_type": "code",
      "source": [
        "monthly_resampled_data['Year'] = monthly_resampled_data.index.year\n",
        "monthly_resampled_data['Month'] = monthly_resampled_data.index.month\n",
        "monthly_resampled_data['Quarter'] = monthly_resampled_data.index.quarter\n",
        "monthly_resampled_data['WeekOfYear'] = monthly_resampled_data.index.weekofyear\n",
        "\n",
        "monthly_resampled_data['Close_Lag1'] = monthly_resampled_data['Close'].shift(1)\n",
        "monthly_resampled_data['Close_Lag2'] = monthly_resampled_data['Close'].shift(2)\n",
        "\n",
        "monthly_resampled_data['Close_Rolling_Mean'] = monthly_resampled_data['Close'].rolling(window=3).mean()\n",
        "monthly_resampled_data['Close_Rolling_Std'] = monthly_resampled_data['Close'].rolling(window=3).std()\n",
        "\n",
        "print(monthly_resampled_data[['Year', 'Month', 'Quarter', 'WeekOfYear',\n",
        "                              'Close_Lag1', 'Close_Lag2',\n",
        "                              'Close_Rolling_Mean', 'Close_Rolling_Std']].head())\n"
      ],
      "metadata": {
        "colab": {
          "base_uri": "https://localhost:8080/"
        },
        "id": "fuy3tDydwDEu",
        "outputId": "22d7b9f6-d7e2-473f-9bcf-13f34ca5de46"
      },
      "execution_count": 14,
      "outputs": [
        {
          "output_type": "stream",
          "name": "stdout",
          "text": [
            "            Year  Month  Quarter  WeekOfYear  Close_Lag1  Close_Lag2  \\\n",
            "Date                                                                   \n",
            "2003-12-31  2003     12        4           1         NaN         NaN   \n",
            "2004-01-31  2004      1        1           5    45.49080         NaN   \n",
            "2004-02-29  2004      2        1           9    45.23675    45.49080   \n",
            "2004-03-31  2004      3        1          14    45.27450    45.23675   \n",
            "2004-04-30  2004      4        2          18    44.75880    45.27450   \n",
            "\n",
            "            Close_Rolling_Mean  Close_Rolling_Std  \n",
            "Date                                               \n",
            "2003-12-31                 NaN                NaN  \n",
            "2004-01-31                 NaN                NaN  \n",
            "2004-02-29           45.334017           0.137084  \n",
            "2004-03-31           45.090017           0.287462  \n",
            "2004-04-30           44.647100           0.690064  \n"
          ]
        },
        {
          "output_type": "stream",
          "name": "stderr",
          "text": [
            "<ipython-input-14-47d922a1cffd>:4: FutureWarning: weekofyear and week have been deprecated, please use DatetimeIndex.isocalendar().week instead, which returns a Series. To exactly reproduce the behavior of week and weekofyear and return an Index, you may call pd.Int64Index(idx.isocalendar().week)\n",
            "  monthly_resampled_data['WeekOfYear'] = monthly_resampled_data.index.weekofyear\n"
          ]
        }
      ]
    },
    {
      "cell_type": "markdown",
      "source": [
        "**Manipulating time series data involves several steps including loading the data, parsing time information, handling missing values, resampling for different time periods, and potentially transforming or aggregating the data.**"
      ],
      "metadata": {
        "id": "M8KflQKs1DE6"
      }
    }
  ]
}